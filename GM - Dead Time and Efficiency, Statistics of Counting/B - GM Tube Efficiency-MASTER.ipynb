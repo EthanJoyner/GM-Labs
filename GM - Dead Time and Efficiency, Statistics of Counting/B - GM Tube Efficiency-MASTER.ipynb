{
 "cells": [
  {
   "cell_type": "markdown",
   "metadata": {
    "id": "Nv0cTAWW-w9H"
   },
   "source": [
    "## **Detector Efficiency**\n",
    "## Background\n"
   ]
  },
  {
   "cell_type": "markdown",
   "metadata": {
    "id": "RNHWrrFV-w9N"
   },
   "source": [
    "Often the goal of radiation measurements is to determine the activity of the source, which is usually measured in Curies (Ci); 1 Ci = 3.7 x 10^10 decays/second. Most of the sources used in nuclear experiments have activities on the order of microcuries (µCi).\n",
    "\n",
    "The amount of radiation the source emits is proportional to its activity, A (in Ci), and the intensity, I_g, for that particular radiation. The I_g is the fraction of decays in which the atom emits that particular radiation.\n",
    "\n",
    "$$\n",
    "Rate = A * I_g * 3.7*10^{10}\n",
    "$$\n",
    "\n",
    "From earlier experiments, you should have learned that a GM tube does not count all the particles that are emitted from a source, i.e., dead time. In addition, some of the particles do not strike the tube at all, because they are emitted uniformly in all directions from the source. Unless the detector completely surrounds the source, only a certain percentage of it will strike the detector. This is known as the geometric efficiency, ε_g. ε_g depends on the fraction of the solid angle surrounding the source that the detector subtends.\n",
    "\n",
    "Not all radiation that strikes the detector will be counted. Some will pass straight through without interacting, and some will interact but fail to deposit all of their energy resulting in no count. The fraction of raduation that strikes the detector and results in a count is known as the detector's intrinsic efficiency, ε_I. ε_I is a function of the detector as well as the type of radiation.\n",
    "\n",
    "The total efficiency of the detector, ε_T is the fraction of radiation emitted by the source that are counted by the detector.\n",
    "\n",
    "\n",
    "$$\n",
    "ε_T=ε_I*ε_g=\\frac{Counts}{A*I_g}\n",
    "$$\n",
    "\n",
    "Once the total detector efficiency is known, it can be seen that by rearrangement of equation (2), the number of counts can be used to determine the total source activity. In this experiment, you will calculate the efficiency of a GM tube counting system for different isotopes by comparing the measured count rate to the\n",
    "disintegration rate (activity) of the source.\n",
    "\n"
   ]
  },
  {
   "cell_type": "markdown",
   "metadata": {
    "id": "S-B5XRbt-w9P"
   },
   "source": [
    "## **Equipment**\n",
    "\n",
    "*  ST-365B Counter with GM Tube and stand\n",
    "*   [Spectrum Techniques Software](https://www.spectrumtechniques.com/software-downloads/)\n",
    "*   Po-210, Sr-90, and Co-60 sources"
   ]
  },
  {
   "cell_type": "markdown",
   "metadata": {
    "id": "6qu6yN71-w9Q"
   },
   "source": [
    "## **Procedure**\n",
    "\n",
    "\n",
    "1. Determine the current activities for your alpha, beta, and gamma sources using their dates of manufacture, original activities, and half lives. The original activity and date of manufacture should be listed on the source, and half lives can be looked up [here](http://www.lnhb.fr/Laraweb/). The activities will need to be converted into becquerels."
   ]
  },
  {
   "cell_type": "code",
   "execution_count": 33,
   "metadata": {
    "colab": {
     "base_uri": "https://localhost:8080/"
    },
    "executionInfo": {
     "elapsed": 3,
     "status": "ok",
     "timestamp": 1737351742244,
     "user": {
      "displayName": "Luke Gilde",
      "userId": "14664089904360922959"
     },
     "user_tz": 300
    },
    "id": "cdTpUVX0qOHS",
    "outputId": "af2eba03-4040-45b3-c0f2-2852414a7b1b"
   },
   "outputs": [
    {
     "name": "stdout",
     "output_type": "stream",
     "text": [
      "Alpha Activity = 684 Bq of Po-210\n",
      "Beta Activity = 3389 Bq of Sr-90\n",
      "Gamma Activity = 22857 Bq of Co-60\n"
     ]
    }
   ],
   "source": [
    "from datetime import date\n",
    "\n",
    "# Define isotopes for each source\n",
    "Alpha_Isotope=\"Po-210\"\n",
    "Beta_Isotope=\"Sr-90\"\n",
    "Gamma_Isotope=\"Co-60\"\n",
    "\n",
    "# Assay date for each soure\n",
    "Alpha_date=date(2024,8,9)\n",
    "Beta_date=date(2021,11,17)\n",
    "Gamma_date=date(2021,11,12)\n",
    "\n",
    "# Date sources were counted\n",
    "Count_date=date(2025,7,11)\n",
    "\n",
    "# Initial activity of sources in microcuries\n",
    "A0_Alpha = 0.1\n",
    "A0_Beta =  0.1\n",
    "A0_Gamma = 1\n",
    "\n",
    "# Half life of each source in days\n",
    "Alpha_THalf=138 # Po-210\n",
    "Beta_THalf=10512 # Sr-90\n",
    "Gamma_THalf=1924 # Co-60\n",
    "\n",
    "# Compute decay times for each source\n",
    "Alpha_decay=Count_date-Alpha_date\n",
    "Beta_decay=Count_date-Beta_date\n",
    "Gamma_decay=Count_date-Gamma_date\n",
    "\n",
    "# Decay correct source activities and convert from Microcuries to Becquerels\n",
    "uCi_to_Bq=3.7*10**4\n",
    "A_Alpha=(A0_Alpha*(1/2)**(Alpha_decay.days/Alpha_THalf))*uCi_to_Bq\n",
    "A_Beta=(A0_Beta*(1/2)**(Beta_decay.days/Beta_THalf))*uCi_to_Bq\n",
    "A_Gamma=(A0_Gamma*(1/2)**(Gamma_decay.days/Gamma_THalf))*uCi_to_Bq\n",
    "\n",
    "print(\"Alpha Activity =\", \"{:.0f}\".format(A_Alpha), \"Bq of\", Alpha_Isotope)\n",
    "print(\"Beta Activity =\", \"{:.0f}\".format(A_Beta), \"Bq of\", Beta_Isotope)\n",
    "print(\"Gamma Activity =\", \"{:.0f}\".format(A_Gamma), \"Bq of\", Gamma_Isotope)"
   ]
  },
  {
   "cell_type": "markdown",
   "metadata": {
    "id": "g9ri2pMD8_IQ"
   },
   "source": [
    "\n",
    "2. Connect the detector and launch the [Spectrum Techniques Software](https://www.spectrumtechniques.com/software-downloads/).\n",
    "3.  Turn on the detector and set the voltage to 900 V.\n",
    "4.  Perform a 60 second count with no source to determine the background.\n",
    "5. Place the alpha source (Po-210) in the top shelf and perform a 60 second count.\n",
    "6. Replace the alpha source with a beta source (Sr-90) in the top shelf and perform a 60 second count.\n",
    "7. Replace the beta source with a gamma source (Co-60) in the top shelf and perform a 60 second count.\n",
    "8. Record the data.\n"
   ]
  },
  {
   "cell_type": "code",
   "execution_count": 34,
   "metadata": {
    "executionInfo": {
     "elapsed": 2,
     "status": "ok",
     "timestamp": 1737351746051,
     "user": {
      "displayName": "Luke Gilde",
      "userId": "14664089904360922959"
     },
     "user_tz": 300
    },
    "id": "Li1gPJQA-3uF"
   },
   "outputs": [],
   "source": [
    "Count_time=60 # Seconds\n",
    "\n",
    "Background_counts=49 # Counts\n",
    "Alpha_counts=927 # Counts\n",
    "Beta_counts=14287 # Counts\n",
    "Gamma_counts=2411 # Counts"
   ]
  },
  {
   "cell_type": "markdown",
   "metadata": {
    "id": "_rOPny_K-w9R"
   },
   "source": [
    "## **Data Analysis**\n",
    "1. Correct the count rates you measured for the dead time of the detector."
   ]
  },
  {
   "cell_type": "code",
   "execution_count": 35,
   "metadata": {
    "colab": {
     "base_uri": "https://localhost:8080/"
    },
    "executionInfo": {
     "elapsed": 102,
     "status": "ok",
     "timestamp": 1737351895752,
     "user": {
      "displayName": "Luke Gilde",
      "userId": "14664089904360922959"
     },
     "user_tz": 300
    },
    "id": "c8MZK_irR5xV",
    "outputId": "1932d68b-b394-4c94-b481-afce0e2fed29"
   },
   "outputs": [
    {
     "name": "stdout",
     "output_type": "stream",
     "text": [
      "Corrected Count Rate = 14.7 CPS for Po-210\n",
      "Corrected Count Rate = 246.9 CPS for Sr-90\n",
      "Corrected Count Rate = 39.6 CPS for Co-60\n"
     ]
    }
   ],
   "source": [
    "# Dead time for the detector determined earlier\n",
    "T_d=0.000163 # seconds\n",
    "\n",
    "# Determine the recorded count rates in counts per second\n",
    "Background_rate=Background_counts/Count_time\n",
    "Alpha_rate=Alpha_counts/Count_time\n",
    "Beta_rate=Beta_counts/Count_time\n",
    "Gamma_rate=Gamma_counts/Count_time\n",
    "\n",
    "# Correct the recorded count rates for dead time and background\n",
    "Background_corrected=(Background_rate/(1-Background_rate*T_d))\n",
    "Alpha_corrected=(Alpha_rate/(1-Alpha_rate*T_d))-Background_corrected\n",
    "Beta_corrected=(Beta_rate/(1-Beta_rate*T_d))-Background_corrected\n",
    "Gamma_corrected=(Gamma_rate/(1-Gamma_rate*T_d))-Background_corrected\n",
    "\n",
    "# Print the corrected count rates in CPS\n",
    "print(\"Corrected Count Rate =\", \"{:.1f}\".format(Alpha_corrected), \"CPS for\", Alpha_Isotope)\n",
    "print(\"Corrected Count Rate =\", \"{:.1f}\".format(Beta_corrected), \"CPS for\", Beta_Isotope)\n",
    "print(\"Corrected Count Rate =\", \"{:.1f}\".format(Gamma_corrected), \"CPS for\", Gamma_Isotope)"
   ]
  },
  {
   "cell_type": "markdown",
   "metadata": {
    "id": "V5xyiJR0qQ9D"
   },
   "source": [
    " 2. Calculate the efficiency of your detector for alpha, beta, and gamma rays."
   ]
  },
  {
   "cell_type": "code",
   "execution_count": 36,
   "metadata": {
    "colab": {
     "base_uri": "https://localhost:8080/"
    },
    "executionInfo": {
     "elapsed": 106,
     "status": "ok",
     "timestamp": 1737351756890,
     "user": {
      "displayName": "Luke Gilde",
      "userId": "14664089904360922959"
     },
     "user_tz": 300
    },
    "id": "OJbhgyL--w9T",
    "outputId": "506df055-33cb-4362-9d97-9a856f586174"
   },
   "outputs": [
    {
     "name": "stdout",
     "output_type": "stream",
     "text": [
      "Efficiency = 2.1 % for Po-210\n",
      "Efficiency = 7.3 % for Sr-90\n",
      "Efficiency = 0.2 % for Co-60\n"
     ]
    }
   ],
   "source": [
    "# Calculate the efficiency for each isotope by dividing the corrected count rate\n",
    "# by the source activity\n",
    "Alpha_efficiency=Alpha_corrected/A_Alpha\n",
    "Beta_efficiency=Beta_corrected/A_Beta\n",
    "Gamma_efficiency=Gamma_corrected/A_Gamma\n",
    "\n",
    "# Print the measured efficiencies in %\n",
    "print(\"Efficiency =\", \"{:.1f}\".format(Alpha_efficiency*100), \"% for\", Alpha_Isotope)\n",
    "print(\"Efficiency =\", \"{:.1f}\".format(Beta_efficiency*100), \"% for\", Beta_Isotope)\n",
    "print(\"Efficiency =\", \"{:.1f}\".format(Gamma_efficiency*100), \"% for\", Gamma_Isotope)"
   ]
  },
  {
   "cell_type": "markdown",
   "metadata": {
    "id": "MqTPr-29GhTa"
   },
   "source": [
    "3. You measured the total efficiency of your GM-Tube for alpha, beta, and gamma sources. Use this information to determine the GM-Tube's intrinsic efficiency for each of these sources. The tube is 3.5 cm in diameter and the source is 2.5 cm from its face."
   ]
  },
  {
   "cell_type": "code",
   "execution_count": 37,
   "metadata": {
    "colab": {
     "base_uri": "https://localhost:8080/"
    },
    "executionInfo": {
     "elapsed": 99,
     "status": "ok",
     "timestamp": 1737351774299,
     "user": {
      "displayName": "Luke Gilde",
      "userId": "14664089904360922959"
     },
     "user_tz": 300
    },
    "id": "0vZi83FgGhBg",
    "outputId": "b72a7af2-b4ee-4d0e-87b0-a34d19265406"
   },
   "outputs": [
    {
     "name": "stdout",
     "output_type": "stream",
     "text": [
      "Intrinsic Efficiency = 10.2 % for Po-210\n",
      "Intrinsic Efficiency = 34.8 % for Sr-90\n",
      "Intrinsic Efficiency = 0.8 % for Co-60\n"
     ]
    }
   ],
   "source": [
    "import math\n",
    "\n",
    "# Calculate the solid angle subtended by the detector\n",
    "d=2.5 # cm\n",
    "a=3.5 # cm\n",
    "Omega=2*math.pi*(1-d/math.sqrt(d**2+a**2))\n",
    "\n",
    "# Calculate the geometric efficiency\n",
    "E_geo=Omega/(4*math.pi)\n",
    "\n",
    "# Calculate the intrinsic efficiency for each source\n",
    "Alpha_int=Alpha_efficiency/E_geo\n",
    "Beta_int=Beta_efficiency/E_geo\n",
    "Gamma_int=Gamma_efficiency/E_geo\n",
    "\n",
    "# Print the measured efficiencies in %\n",
    "print(\"Intrinsic Efficiency =\", \"{:.1f}\".format(Alpha_int*100), \"% for\", Alpha_Isotope)\n",
    "print(\"Intrinsic Efficiency =\", \"{:.1f}\".format(Beta_int*100), \"% for\", Beta_Isotope)\n",
    "print(\"Intrinsic Efficiency =\", \"{:.1f}\".format(Gamma_int*100), \"% for\", Gamma_Isotope)"
   ]
  },
  {
   "cell_type": "code",
   "execution_count": null,
   "metadata": {
    "id": "GaRKe6G6L3xY"
   },
   "outputs": [],
   "source": []
  }
 ],
 "metadata": {
  "colab": {
   "provenance": []
  },
  "kernelspec": {
   "display_name": ".venv",
   "language": "python",
   "name": "python3"
  },
  "language_info": {
   "codemirror_mode": {
    "name": "ipython",
    "version": 3
   },
   "file_extension": ".py",
   "mimetype": "text/x-python",
   "name": "python",
   "nbconvert_exporter": "python",
   "pygments_lexer": "ipython3",
   "version": "3.11.4"
  }
 },
 "nbformat": 4,
 "nbformat_minor": 0
}
