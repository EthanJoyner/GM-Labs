{
 "cells": [
  {
   "cell_type": "markdown",
   "metadata": {
    "id": "X4MUwm_Dze9g"
   },
   "source": [
    "# **Dead Time**\n",
    "\n",
    "## Background\n",
    "The Geiger counter is very slow in responding to detected events. It takes about a microsecond for the detector to develop its full response to the ion pair produced by the  incident gamma-ray or charged particle. Additionally, hundreds of microseconds are required to restore the detector to full sensitivity for the next event. During this time, if a second ionizing particle strikes the tube it will not be detected because the tube cannot tell there is another electron avalanche present. Basically, the counter cannot produce pulses for more than one particle, because the counter is “occupied” with the particle that arrives earliest. This phenomenon is sometimes referred to as coincidence. As a result of coincidence, the observed counts are always lower than the true counts. Dead times span a range from a few microseconds for small tubes to 1000 microseconds for very large detectors. The loss of counts is important, especially when there are high count rates involved and the losses accumulate into large numbers.\n",
    "\n",
    "In this experiment the measurement of the dead time will be accomplished with a split source. The measured dead time will be employed to correct the counting rates in all the subsequent measurements.The count rates, or activities, of two sources are measured individually ($r_{1}$ and $r_{2}$) and then together ($r_{12}$). The paired samples form a disc cut into two lengthwise. A small quantity of radioactive material is placed on each half making each a “half-source” of approximately equal strength. A blank disk is used to duplicate the set-up geometry while using only one half-source. (NOTE: You must keep the experimental set-up the same or there is a chance that results may change.)"
   ]
  },
  {
   "cell_type": "markdown",
   "metadata": {
    "id": "beYxkKjsze9i"
   },
   "source": [
    "## Theory\n",
    "\n",
    "The dead time of a nuclear radiation counting system is typically dominated by one of two types of dead time: 1) paralyzable (a.k.a., extending) dead time, or 2) non-paralyzable (a.k.a., non-extending) dead time. For a full explanation see the textbook. The dead time contributed by the Geiger counter is reasonably modeled as a non-paralyzable dead time. The measured counting rate, $R$, is related to the true counting rate, $r$, at the input to the detector via the equation:\n",
    "$$\n",
    "R=\\frac{r}{1+T_{d}}\\tag{1}\n",
    "$$\n",
    "Where $T_{d}$ is the dead time caused by each quantum of radiation that is detected when the counter is free to accept a new event. Note that the dead time reduces the measured counting rate relative to the true counting rate, and higher counting rates cause a greater relative reduction.\n",
    "\n",
    "In practice, the experimenter only has access to the measured counting rate, $R$, after dead time losses have occurred. Consequently, it is important to calculate the true counting rate, and this requires knowing the dead time per pulse, $T_{d}$. If the above equation is rearranged to:\n",
    "$$\n",
    "r=\\frac{R}{1-RT_{d}}\\tag{2}\n",
    "$$\n",
    "one can compute the true counting rate from the measured counting rate and the known dead time per pulse.\n",
    "\n",
    "Dead time is frequently expressed as a percentage:\n",
    "$$\n",
    "Percent \\ Dead\\ Time = \\frac{r-R}{r}x100\\%=RT_{d}x100\\%=\\frac{rT_{d}}{1+rT_{d}}x100\\%\n",
    "\\tag{3}\n",
    "$$\n",
    "\n",
    "For the experiment, the first half of the source is removed, and the counting rate of the second half, $R_{2}$, is measured. Subsequently, the first half is carefully reinstalled without disturbing the second half, and the counting rate from the pair of sources, $R_{12}$, is measured. Finally, the second half of the disk is removed without disturbing the first half, and the counting rate, $R_{1}$, is measured. $R_{1}, R_{2}$, and $R_{12}$ can be inserted into equation (2) to write the equations for $r_{1}$, $r_{2}$, and $r_{12}$, respectively. Because of the dead time, $R_{12} < (R_{1} + R_{2}$). But for the true counting rates:\n",
    "$$\n",
    "r_{12}=r_{1}+r_{2}\\tag{4}\n",
    "$$\n",
    "\n",
    "Combining equation (4) with the expressions for $r_{1}, r_{2}$ and $r_{12}$ from equation (2), we can solve for $T_{d}$ in terms of the measured counting rates. From reference 1, the exact solution for the case of zero background is:\n",
    "$$\n",
    "T_{d}=\\frac{R_{1}R_{2}-[R_{1}R_{2}(R_{12}-R_{1})(R_{12}-R_{2})]^{\\frac{1}{2}}}{R_{1}R_{2}R_{12}}\\tag{5}\n",
    "$$\n",
    "\n",
    "This can be simplified to:\n",
    "$$\n",
    "T_{d}\\approx \\frac{R_{1}+R_{2}-R_{12}}{2R_{1}R_{2}}\\tag{6}\n",
    "$$\n",
    "\n"
   ]
  },
  {
   "cell_type": "markdown",
   "metadata": {
    "id": "34KYNm4Nze9i"
   },
   "source": [
    "## **Equipment**\n",
    "\n",
    "*  ST-365B Counter with GM Tube and stand\n",
    "*   [Spectrum Techniques Software](https://www.spectrumtechniques.com/software-downloads/)\n",
    "*   Split sources"
   ]
  },
  {
   "cell_type": "markdown",
   "metadata": {
    "id": "sqp4UABdze9i"
   },
   "source": [
    "## **Procedure**\n",
    "\n",
    "\n",
    "1.  Turn on the detector and set the voltage to 900 V.\n",
    "2.  Set preset Time to 60 and Runs to 2.\n",
    "3.  Perform 2 60 second counts with no source to determine the background.\n"
   ]
  },
  {
   "cell_type": "code",
   "execution_count": 1,
   "metadata": {
    "colab": {
     "base_uri": "https://localhost:8080/"
    },
    "executionInfo": {
     "elapsed": 249,
     "status": "ok",
     "timestamp": 1737265665034,
     "user": {
      "displayName": "Luke Gilde",
      "userId": "14664089904360922959"
     },
     "user_tz": 300
    },
    "id": "q4ov4hBgze9j",
    "outputId": "fa043932-62ac-4d4c-9725-4c862b708c0e"
   },
   "outputs": [
    {
     "name": "stdout",
     "output_type": "stream",
     "text": [
      "Bkg=0.56 CPS\n"
     ]
    }
   ],
   "source": [
    "## Determine the background count rate in Counts Per Second (CPS)\n",
    "\n",
    "# Import required packages\n",
    "import statistics as stat\n",
    "import math\n",
    "\n",
    "# Calculate the average background count rate\n",
    "Bkg_Counts=[42,25]\n",
    "Bkg=stat.mean(Bkg_Counts)/60\n",
    "print(\"Bkg=\"\"{:.2f}\".format(Bkg), \"CPS\")\n"
   ]
  },
  {
   "cell_type": "markdown",
   "metadata": {
    "id": "-9cVUZQUze9j"
   },
   "source": [
    "4.   Place one of the half sources in the tray (**sticker side down**) next to the blank source. Place the tray in the 2nd slot.\n",
    "5. Perform another 60 second count.\n",
    "6. Find the counting rate in counts per second, this is $R_{1}$.\n"
   ]
  },
  {
   "cell_type": "code",
   "execution_count": 2,
   "metadata": {
    "colab": {
     "base_uri": "https://localhost:8080/"
    },
    "executionInfo": {
     "elapsed": 222,
     "status": "ok",
     "timestamp": 1737265667455,
     "user": {
      "displayName": "Luke Gilde",
      "userId": "14664089904360922959"
     },
     "user_tz": 300
    },
    "id": "s4xDEUs3ze9j",
    "outputId": "edf7d750-0ed8-44d6-f6d0-b5dd76d9bab5"
   },
   "outputs": [
    {
     "name": "stdout",
     "output_type": "stream",
     "text": [
      "R_1=1125.05 CPS\n"
     ]
    }
   ],
   "source": [
    "## Define R_1\n",
    "R_1=67503/60\n",
    "print(\"R_1=\"\"{:.2f}\".format(R_1), \"CPS\")"
   ]
  },
  {
   "cell_type": "markdown",
   "metadata": {
    "id": "632BuUaPze9j"
   },
   "source": [
    "\n",
    "7. Remove the blank source, and place a second half source (**sticker side down**) in its place.\n",
    "8. Perform another 60 second count.\n",
    "9. Find the counting rate in counts per second, this is $R_{12}$."
   ]
  },
  {
   "cell_type": "markdown",
   "metadata": {
    "id": "Z4FopwmaEJuR"
   },
   "source": []
  },
  {
   "cell_type": "code",
   "execution_count": 3,
   "metadata": {
    "colab": {
     "base_uri": "https://localhost:8080/"
    },
    "executionInfo": {
     "elapsed": 110,
     "status": "ok",
     "timestamp": 1737265671044,
     "user": {
      "displayName": "Luke Gilde",
      "userId": "14664089904360922959"
     },
     "user_tz": 300
    },
    "id": "uXFsPKPJze9k",
    "outputId": "94b22eef-9196-42a7-95fc-bfb8440afa13"
   },
   "outputs": [
    {
     "name": "stdout",
     "output_type": "stream",
     "text": [
      "R_12=1714.20 CPS\n"
     ]
    }
   ],
   "source": [
    "## Define R_12\n",
    "R_12=102852/60\n",
    "print(\"R_12=\"\"{:.2f}\".format(R_12), \"CPS\")"
   ]
  },
  {
   "cell_type": "markdown",
   "metadata": {
    "id": "ROWh6FSEze9k"
   },
   "source": [
    "10. Remove the first source, and replace it with the blank source.\n",
    "11. Perform another 60 second count.\n",
    "12. Find the counting rate in counts per second, this is $R_{2}$."
   ]
  },
  {
   "cell_type": "code",
   "execution_count": 4,
   "metadata": {
    "colab": {
     "base_uri": "https://localhost:8080/"
    },
    "executionInfo": {
     "elapsed": 119,
     "status": "ok",
     "timestamp": 1737265673803,
     "user": {
      "displayName": "Luke Gilde",
      "userId": "14664089904360922959"
     },
     "user_tz": 300
    },
    "id": "5ZNn1sPIze9k",
    "outputId": "b9ea0cab-e4f2-4515-9d87-11ca46aa0b4a"
   },
   "outputs": [
    {
     "name": "stdout",
     "output_type": "stream",
     "text": [
      "R_2=929.32 CPS\n"
     ]
    }
   ],
   "source": [
    "## Define R_2\n",
    "R_2=55759/60\n",
    "print(\"R_2=\"\"{:.2f}\".format(R_2), \"CPS\")"
   ]
  },
  {
   "cell_type": "markdown",
   "metadata": {
    "id": "kdrhJxanze9k"
   },
   "source": [
    "\n",
    "12.  Use equation (6) to calculate the dead time, $T_{d}$, of the detector in.\n",
    "13"
   ]
  },
  {
   "cell_type": "code",
   "execution_count": 5,
   "metadata": {
    "colab": {
     "base_uri": "https://localhost:8080/"
    },
    "executionInfo": {
     "elapsed": 120,
     "status": "ok",
     "timestamp": 1737265676159,
     "user": {
      "displayName": "Luke Gilde",
      "userId": "14664089904360922959"
     },
     "user_tz": 300
    },
    "id": "TxLfpciLze9k",
    "outputId": "c7a5e388-eaed-4eb1-aa76-556b061a4869"
   },
   "outputs": [
    {
     "name": "stdout",
     "output_type": "stream",
     "text": [
      "T_d=0.000163 s\n",
      "T_d=163 μs\n"
     ]
    }
   ],
   "source": [
    "## Determine T_d\n",
    "T_d=(R_1+R_2-R_12)/(2*R_1*R_2)\n",
    "print(\"T_d=\"\"{:.6f}\".format(T_d), \"s\")\n",
    "print(\"T_d=\"\"{:.0f}\".format(T_d*10**6), \"\\u03BCs\")"
   ]
  }
 ],
 "metadata": {
  "colab": {
   "provenance": [
    {
     "file_id": "1Ev2SPv0USOwgTck0lDkJsAyu9FTIu0YY",
     "timestamp": 1694461233512
    }
   ]
  },
  "kernelspec": {
   "display_name": ".venv",
   "language": "python",
   "name": "python3"
  },
  "language_info": {
   "codemirror_mode": {
    "name": "ipython",
    "version": 3
   },
   "file_extension": ".py",
   "mimetype": "text/x-python",
   "name": "python",
   "nbconvert_exporter": "python",
   "pygments_lexer": "ipython3",
   "version": "3.11.4"
  }
 },
 "nbformat": 4,
 "nbformat_minor": 0
}
