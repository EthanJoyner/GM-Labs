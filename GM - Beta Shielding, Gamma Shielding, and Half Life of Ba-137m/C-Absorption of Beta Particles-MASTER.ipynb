{
 "cells": [
  {
   "cell_type": "markdown",
   "id": "e2489e2f",
   "metadata": {
    "id": "e2489e2f"
   },
   "source": [
    "# Absorption of Beta Particles\n",
    "## **Introduction:**\n",
    "Beta particles are electrons that are emitted from an atom when it decays by converting a neutron (n) to a proton (p), an electron (e<sup>-</sup>), and and an anti-neutrino ($\\bar{ν}$). When an electron originates in the nucleus, it is called a beta particle. Beta particles are emitted with a range of energies between 0 MeV and the maximum energy for a given radioactive isotope. The spectrum is not linear and “tails” off at high energy, which means that there are very few beta particles. Therefore, beta particles do not all have the same range. When the range varies over different values, this is called range straggling. It represents the different energy losses all of the beta particles have given their different initial values.\n",
    "\n",
    "In this experiment, you will find the range of beta particles by measuring their attenuation with absorbers and extrapolating the absorption curve. The range R will then be substituted into the formula:\n",
    "\n",
    "$$\n",
    "E_{\\beta} = 1.84R + 0.212 \\tag{1}\n",
    "$$\n",
    "\n",
    "where R is in g/cm<sup>2</sup>. (Note that the units for R are not the same as the absorber thicknesses. You must convert at the end.)\n"
   ]
  },
  {
   "cell_type": "markdown",
   "id": "946d5677",
   "metadata": {
    "id": "946d5677"
   },
   "source": [
    "## **Equipment**\n",
    "\n",
    "*   ST-365B Counter with GM Tube and stand\n",
    "*   Radioactive Sources (Sr-90)\n",
    "*   Absorber Set"
   ]
  },
  {
   "cell_type": "markdown",
   "id": "47d9915b",
   "metadata": {
    "id": "47d9915b"
   },
   "source": [
    "## **Procedure:**\n",
    "1. ~~ Turn on the detector and set the voltage to 900 V.~~\n",
    "2. ~~Set Preset the Time to 60 and Runs to 2.~~\n",
    "3. ~~Perform the counts with no source to determine the background.~~\n",
    "4. Place the  Sr-90 beta source in the second shelf and take another 60 scount. (Select No to Clear Result Data)\n",
    "5. Place the thinnest absorber (A) in the top shelf and take another 60 second count. (Select No to Clear Result Data)\n",
    "6. Replace the thinnest absorber with the second thinnest (B) and take a 60 second count. (Select No to Clear Result Data)\n",
    "7. Continue taking counts with absorbers of increasing thickness until all of the absorber H has been reached. (Do not clear Result Data between runs)\n",
    "8. Save the data."
   ]
  },
  {
   "cell_type": "markdown",
   "id": "665c79de",
   "metadata": {
    "id": "665c79de"
   },
   "source": [
    "## **Data Analysis**\n",
    "1. Apply corrections for the dead time you determined in the previous experiment and the measured background counting rate to determine the true counting rate for each sample you took.\n"
   ]
  },
  {
   "cell_type": "code",
   "execution_count": null,
   "id": "6e8a85f4",
   "metadata": {
    "id": "6e8a85f4"
   },
   "outputs": [],
   "source": [
    "# Import required packages\n",
    "import pandas as pd\n",
    "import numpy as np\n",
    "import matplotlib.pyplot as plt\n",
    "import math\n",
    "import statistics as stat\n",
    "\n",
    "# Dead time for the detector determined earlier\n",
    "T_d=0.000163  # seconds\n",
    "\n",
    "count_time=60\n",
    "\n",
    "\n",
    "# Import data for Source Counts\n",
    "data = pd.read_csv('.csv')\n",
    "\n",
    "background_rate=340/60\n",
    "count_rate=(data['Counts'])/(count_time)\n",
    "t_counts=np.arange(0,count_time*len(data['Counts']),count_time)\n",
    "\n",
    "corrected_rate=[]\n",
    "log_rate=[]\n",
    "for i in range(0, len(data['Counts'])):\n",
    "  cr=(count_rate[i])/(1-count_rate[i]*T_d)-background_rate\n",
    "  lr=math.log(cr)\n",
    "  corrected_rate.append(cr)\n",
    "  log_rate.append(lr)\n",
    "\n",
    "# Select the data to be plotted\n",
    "x = t_counts\n",
    "y = log_rate\n",
    "\n",
    "# Set the plot style\n",
    "fig, ax = plt.subplots(figsize=(5, 5), layout='constrained')\n",
    "plt.style.use('_mpl-gallery')\n",
    "ax.set_title(\"Ba-137 Decay\")\n",
    "ax.set_xlabel('Decay Time (s)')\n",
    "ax.set_ylabel('Log of Count Rate')\n",
    "\n",
    "# Create a line plot of the data\n",
    "ax.plot(x, y, linewidth=2.0, color='red')\n",
    "\n",
    "# Create the plot\n",
    "plt.show()"
   ]
  },
  {
   "cell_type": "markdown",
   "id": "5a3dedb2",
   "metadata": {
    "id": "5a3dedb2"
   },
   "source": [
    "3. Take the natural log of the corrected count per minute and plot the result vs. thickness. Remember to use the mass thickness in mg/cm<sup>2</sup>.  "
   ]
  },
  {
   "cell_type": "code",
   "execution_count": null,
   "id": "4267281f",
   "metadata": {
    "id": "4267281f"
   },
   "outputs": [],
   "source": [
    "## Answer"
   ]
  },
  {
   "cell_type": "markdown",
   "id": "b3398e3e",
   "metadata": {
    "id": "b3398e3e"
   },
   "source": [
    "4. Determine the range of a beta particle emitted from your source. You can by finding the line of best fit for your graph and determining the x-intercept. The value of the x-intercept converted to mg/cm<sup>2</sup> should be your estmation for the range."
   ]
  },
  {
   "cell_type": "code",
   "execution_count": null,
   "id": "7cb63593",
   "metadata": {
    "id": "7cb63593"
   },
   "outputs": [],
   "source": [
    "## Answer"
   ]
  },
  {
   "cell_type": "markdown",
   "id": "20312f5a",
   "metadata": {
    "id": "20312f5a"
   },
   "source": [
    "5. Using the range determined in the previous step as the value of R, find the energy E of a beta particle using equation (1). Remember to pay attention to the units."
   ]
  },
  {
   "cell_type": "code",
   "execution_count": null,
   "id": "364d4b54",
   "metadata": {
    "id": "364d4b54"
   },
   "outputs": [],
   "source": [
    "## Answer"
   ]
  },
  {
   "cell_type": "markdown",
   "id": "9ccbd9a8",
   "metadata": {
    "id": "9ccbd9a8"
   },
   "source": [
    "## **Post-Lab Questions:**\n",
    "1. Is your data linear? If not, what type of behavior does it exhibit?"
   ]
  },
  {
   "cell_type": "code",
   "execution_count": null,
   "id": "1b5b6591",
   "metadata": {
    "id": "1b5b6591"
   },
   "outputs": [],
   "source": [
    "## Answer"
   ]
  },
  {
   "cell_type": "markdown",
   "id": "aa722e00",
   "metadata": {
    "id": "aa722e00"
   },
   "source": [
    "2. What is the slope for your data? How did you obtain it?"
   ]
  },
  {
   "cell_type": "code",
   "execution_count": null,
   "id": "d7574dc0",
   "metadata": {
    "id": "d7574dc0"
   },
   "outputs": [],
   "source": [
    "## Answer"
   ]
  },
  {
   "cell_type": "markdown",
   "id": "1c2bb8c5",
   "metadata": {
    "id": "1c2bb8c5"
   },
   "source": [
    "3. What is the range of the beta particles, so that all of them stop?"
   ]
  },
  {
   "cell_type": "code",
   "execution_count": null,
   "id": "907ffce4",
   "metadata": {
    "id": "907ffce4"
   },
   "outputs": [],
   "source": [
    "## Answer"
   ]
  },
  {
   "cell_type": "markdown",
   "id": "f7dd8bdc",
   "metadata": {
    "id": "f7dd8bdc"
   },
   "source": [
    "4. Bremmsstrahlung (German for braking radiation) is the name given to x-rays produced by beta particles reacting with matter. Was any Bremmsstrahlung produced during the experiment? Can it minimized?"
   ]
  },
  {
   "cell_type": "code",
   "execution_count": null,
   "id": "209fd023",
   "metadata": {
    "id": "209fd023"
   },
   "outputs": [],
   "source": [
    "## Answer"
   ]
  },
  {
   "cell_type": "markdown",
   "id": "edee2180",
   "metadata": {
    "id": "edee2180"
   },
   "source": [
    "5. Why does the data fluctuate so much at high absorber values, especiallythose above 1400 mg/cm2? How can this be handled in the data analysis stage?"
   ]
  },
  {
   "cell_type": "code",
   "execution_count": null,
   "id": "97241f28",
   "metadata": {
    "id": "97241f28"
   },
   "outputs": [],
   "source": [
    "## Answer"
   ]
  },
  {
   "cell_type": "markdown",
   "id": "acd3923d",
   "metadata": {
    "id": "acd3923d"
   },
   "source": [
    "6. Is your result for E accurate? Is it still a good result even if it is not exactly the same as the literature value?"
   ]
  },
  {
   "cell_type": "code",
   "execution_count": null,
   "id": "37f6c576",
   "metadata": {
    "id": "37f6c576"
   },
   "outputs": [],
   "source": [
    "## Answer"
   ]
  }
 ],
 "metadata": {
  "celltoolbar": "Attachments",
  "colab": {
   "provenance": []
  },
  "kernelspec": {
   "display_name": "Python 3",
   "language": "python",
   "name": "python3"
  },
  "language_info": {
   "codemirror_mode": {
    "name": "ipython",
    "version": 3
   },
   "file_extension": ".py",
   "mimetype": "text/x-python",
   "name": "python",
   "nbconvert_exporter": "python",
   "pygments_lexer": "ipython3",
   "version": "3.8.8"
  }
 },
 "nbformat": 4,
 "nbformat_minor": 5
}
